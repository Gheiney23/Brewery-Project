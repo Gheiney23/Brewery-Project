{
 "cells": [
  {
   "cell_type": "code",
   "execution_count": null,
   "metadata": {},
   "outputs": [],
   "source": [
    "import pandas as pd\n",
    "import numpy as np\n",
    "import matplotlib.pyplot as plt\n",
    "%matplotlib inline"
   ]
  },
  {
   "cell_type": "code",
   "execution_count": null,
   "metadata": {},
   "outputs": [],
   "source": [
    "# Created dataframe for the breweries csv file\n",
    "breweries_df = pd.read_csv(r'Absolute Path', index_col=0)\n",
    "\n",
    "# Cleaned up the dataframe from trailing spaces and characters\n",
    "breweries_df.columns = breweries_df.columns.str.strip()\n",
    "\n",
    "# Ran the first 5 entries to check the dataframe\n",
    "display(breweries_df.head())"
   ]
  },
  {
   "cell_type": "code",
   "execution_count": null,
   "metadata": {},
   "outputs": [],
   "source": [
    "# Renamed the primary key to 'id'\n",
    "breweries_df.index.name = 'id'\n",
    "\n",
    "# Ran the last 5 rows to check the dataframe\n",
    "breweries_df.tail()"
   ]
  },
  {
   "cell_type": "code",
   "execution_count": null,
   "metadata": {},
   "outputs": [],
   "source": [
    "# Created a new dataframe for the beer type csv file\n",
    "beers_df = pd.read_csv(r'Absolute Path', index_col=0)\n",
    "\n",
    "# Cleaned up the dataframe \n",
    "beers_df.columns = beers_df.columns.str.strip()\n",
    "\n",
    "# Displayed the dataframe to check\n",
    "display(beers_df)"
   ]
  },
  {
   "cell_type": "code",
   "execution_count": null,
   "metadata": {},
   "outputs": [],
   "source": [
    "# Set the beers primary key permanently to 'brewery_id'\n",
    "beers_df.set_index(['brewery_id'], inplace=True)\n",
    "\n",
    "# Checked to insure the change\n",
    "display(beers_df.head())"
   ]
  },
  {
   "cell_type": "code",
   "execution_count": null,
   "metadata": {},
   "outputs": [],
   "source": [
    "# The 'ibu' column had multiple NaN values so I changed them based on the information I had\n",
    "beers_df['ibu'].fillna(0.0, inplace=True)\n",
    "\n",
    "# Checked the dataframe for the changes\n",
    "beers_df"
   ]
  },
  {
   "cell_type": "code",
   "execution_count": null,
   "metadata": {},
   "outputs": [],
   "source": [
    "# Renamed these columns permenantly to make it more relational to the data\n",
    "beers_df.rename(columns={'name': 'beer_name'}, inplace=True)\n",
    "\n",
    "# Checked the dataframe for changes\n",
    "display(beers_df.head())"
   ]
  },
  {
   "cell_type": "code",
   "execution_count": null,
   "metadata": {},
   "outputs": [],
   "source": [
    "# to find the target result I joined beers and breweries dataframes\n",
    "main_df = beers_df.join(breweries_df, how='left', lsuffix='brewery_id', rsuffix='index')\n",
    "\n",
    "# Checked join for any needed clean up\n",
    "display(main_df.head())"
   ]
  },
  {
   "cell_type": "code",
   "execution_count": null,
   "metadata": {},
   "outputs": [],
   "source": [
    "# made the new primary key 'brewery_id'\n",
    "main_df.index.name = 'brewery_id'\n",
    "\n",
    "# Checked the dataframe for the change\n",
    "main_df"
   ]
  },
  {
   "cell_type": "code",
   "execution_count": null,
   "metadata": {},
   "outputs": [],
   "source": [
    "# Due to multiple NaN values I permanently changed them based on the information I had\n",
    "main_df['abv'].fillna(0.00, inplace=True)\n",
    "\n",
    "# Checked the new changes\n",
    "main_df"
   ]
  },
  {
   "cell_type": "code",
   "execution_count": null,
   "metadata": {},
   "outputs": [],
   "source": [
    "# Cleaned up NaN values based on current information\n",
    "main_df['style'].fillna('N/A', inplace=True)\n",
    "\n",
    "# Checked the changes\n",
    "main_df"
   ]
  },
  {
   "cell_type": "code",
   "execution_count": null,
   "metadata": {},
   "outputs": [],
   "source": [
    "# Only one brewery for the result so I pulled the brewery id to display \n",
    "main_df.loc[335]"
   ]
  }
 ],
 "metadata": {
  "kernelspec": {
   "display_name": "Python 3",
   "language": "python",
   "name": "python3"
  },
  "language_info": {
   "codemirror_mode": {
    "name": "ipython",
    "version": 3
   },
   "file_extension": ".py",
   "mimetype": "text/x-python",
   "name": "python",
   "nbconvert_exporter": "python",
   "pygments_lexer": "ipython3",
   "version": "3.8.8"
  }
 },
 "nbformat": 4,
 "nbformat_minor": 2
}
